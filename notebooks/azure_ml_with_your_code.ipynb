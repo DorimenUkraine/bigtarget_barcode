{
 "cells": [
  {
   "attachments": {
    "image.png": {
     "image/png": "[encoded data removed]"
    }
   },
   "cell_type": "markdown",
   "metadata": {},
   "source": [
    "# Как прикрутить Azure ML к своему ноутбуку\n",
    "\n",
    "1. Скачиваете **config.json** из VM https://40.68.202.72:8000/ и кладете его в корень рядом с ноутбком, который планируете запускать (если что у каждого свой config файл)\n",
    "\n",
    "![image.png](attachment:image.png)\n",
    "\n",
    "2. Устанавливаете **Azureml SDK**\n",
    "\n",
    "    `pip install --upgrade azureml-sdk`\n",
    "\n",
    "\n",
    "3. Подтягиваете конфиг c помощью кода\n",
    "\n",
    "    - У меня открылось дополнительная вкладка логина в microsoft 😱\n",
    "\n",
    "   `from azureml.core import Workspace\n",
    "    ws = Workspace.from_config()`\n",
    "   "
   ]
  },
  {
   "attachments": {
    "image.png": {
     "image/png": "[encoded data removed]"
    }
   },
   "cell_type": "markdown",
   "metadata": {},
   "source": [
    "### Успех выглядит так:\n",
    "\n",
    "![image.png](attachment:image.png)"
   ]
  },
  {
   "cell_type": "code",
   "execution_count": 2,
   "metadata": {
    "ExecuteTime": {
     "end_time": "2020-06-26T14:30:06.907238Z",
     "start_time": "2020-06-26T14:30:06.880331Z"
    }
   },
   "outputs": [
    {
     "data": {
      "text/plain": [
       "'/Users/macdrive/GoogleDrive/Проекты/Uplift/sklift-env/bin/python'"
      ]
     },
     "execution_count": 2,
     "metadata": {},
     "output_type": "execute_result"
    }
   ],
   "source": [
    "import sys\n",
    "sys.executable"
   ]
  },
  {
   "cell_type": "code",
   "execution_count": null,
   "metadata": {
    "ExecuteTime": {
     "end_time": "2020-06-26T14:31:37.281825Z",
     "start_time": "2020-06-26T14:30:18.560379Z"
    }
   },
   "outputs": [],
   "source": [
    "!/Users/macdrive/GoogleDrive/Проекты/Uplift/sklift-env/bin/pip install --upgrade azureml-sdk"
   ]
  },
  {
   "cell_type": "code",
   "execution_count": 1,
   "metadata": {
    "ExecuteTime": {
     "end_time": "2020-06-26T14:53:18.130148Z",
     "start_time": "2020-06-26T14:53:10.961215Z"
    }
   },
   "outputs": [],
   "source": [
    "from azureml.core import Workspace\n",
    "ws = Workspace.from_config()"
   ]
  },
  {
   "cell_type": "markdown",
   "metadata": {},
   "source": [
    "Теперь код из `Intro.ipynb` работает у вас локально"
   ]
  },
  {
   "cell_type": "code",
   "execution_count": 2,
   "metadata": {
    "ExecuteTime": {
     "end_time": "2020-06-26T14:53:40.923582Z",
     "start_time": "2020-06-26T14:53:19.586180Z"
    }
   },
   "outputs": [
    {
     "name": "stderr",
     "output_type": "stream",
     "text": [
      "/Users/macdrive/GoogleDrive/Проекты/Uplift/sklift-env/lib/python3.7/site-packages/azureml/dataprep/api/dataflow.py:722: UserWarning: Your pandas and pyarrow versions are incompatible. Please install pyarrow>=0.12.0 for improved performance of to_pandas_dataframe. You can ensure the correct version is installed by running: pip install pyarrow>=0.12.0 --upgrade\n",
      "  warnings.warn('Your pandas and pyarrow versions are incompatible. '\n"
     ]
    }
   ],
   "source": [
    "from azureml.core import Dataset\n",
    "\n",
    "# get the dataset from Azure ML Workspace\n",
    "aml_dataset = Dataset.get_by_name(ws, 'train_ds', version='latest')\n",
    "pdf = aml_dataset.take(100).to_pandas_dataframe()"
   ]
  },
  {
   "cell_type": "code",
   "execution_count": 3,
   "metadata": {
    "ExecuteTime": {
     "end_time": "2020-06-26T14:56:05.227217Z",
     "start_time": "2020-06-26T14:55:48.076644Z"
    }
   },
   "outputs": [
    {
     "name": "stdout",
     "output_type": "stream",
     "text": [
      "Collecting pyarrow\n",
      "  Downloading pyarrow-0.17.1-cp37-cp37m-macosx_10_9_intel.whl (42.0 MB)\n",
      "\u001b[K     |████████████████████████████████| 42.0 MB 304 kB/s eta 0:00:013     |████████                        | 10.4 MB 10.4 MB/s eta 0:00:04     |██████████                      | 13.3 MB 10.4 MB/s eta 0:00:03\n",
      "\u001b[?25hRequirement already satisfied, skipping upgrade: numpy>=1.14 in /Users/macdrive/GoogleDrive/Проекты/Uplift/sklift-env/lib/python3.7/site-packages (from pyarrow) (1.18.3)\n",
      "Installing collected packages: pyarrow\n",
      "Successfully installed pyarrow-0.17.1\n",
      "\u001b[33mWARNING: You are using pip version 20.1; however, version 20.1.1 is available.\n",
      "You should consider upgrading via the '/Users/macdrive/GoogleDrive/Проекты/Uplift/sklift-env/bin/python -m pip install --upgrade pip' command.\u001b[0m\n"
     ]
    }
   ],
   "source": [
    "!/Users/macdrive/GoogleDrive/Проекты/Uplift/sklift-env/bin/pip install --upgrade pyarrow"
   ]
  },
  {
   "cell_type": "code",
   "execution_count": null,
   "metadata": {},
   "outputs": [],
   "source": []
  }
 ],
 "metadata": {
  "kernelspec": {
   "display_name": "sklift-env",
   "language": "python",
   "name": "sklift-env"
  },
  "language_info": {
   "codemirror_mode": {
    "name": "ipython",
    "version": 3
   },
   "file_extension": ".py",
   "mimetype": "text/x-python",
   "name": "python",
   "nbconvert_exporter": "python",
   "pygments_lexer": "ipython3",
   "version": "3.7.1"
  }
 },
 "nbformat": 4,
 "nbformat_minor": 4
}
